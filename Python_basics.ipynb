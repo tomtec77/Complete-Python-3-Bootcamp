{
 "cells": [
  {
   "cell_type": "markdown",
   "id": "56c1a970-2b50-44f8-b594-611cc0f86f46",
   "metadata": {},
   "source": [
    "# String immutability\n",
    "\n",
    "Strings are not mutable, i.e. you cannot use indexing to change individual elements of a string."
   ]
  },
  {
   "cell_type": "code",
   "execution_count": 1,
   "id": "9caf8b07-cca7-4fd2-a98a-0a1ceaa39c46",
   "metadata": {},
   "outputs": [],
   "source": [
    "name = \"Sam\""
   ]
  },
  {
   "cell_type": "code",
   "execution_count": 2,
   "id": "cd627a17-b936-4b5c-acc5-b7d509934153",
   "metadata": {},
   "outputs": [
    {
     "name": "stdout",
     "output_type": "stream",
     "text": [
      "Pam\n"
     ]
    }
   ],
   "source": [
    "# name[0] = 'P'    This will cause an error\n",
    "name = 'P' + name[1:]\n",
    "print(name)"
   ]
  },
  {
   "cell_type": "markdown",
   "id": "85a82312-0edf-486b-96ba-ec9da644566c",
   "metadata": {},
   "source": [
    "# String concatenation"
   ]
  },
  {
   "cell_type": "code",
   "execution_count": 3,
   "id": "47910488-1a5a-45f1-9f48-73df28078656",
   "metadata": {},
   "outputs": [],
   "source": [
    "x = 'Hello World!'"
   ]
  },
  {
   "cell_type": "code",
   "execution_count": 4,
   "id": "1208f527-5003-4028-9ae5-cc8e498a29fd",
   "metadata": {},
   "outputs": [
    {
     "name": "stdout",
     "output_type": "stream",
     "text": [
      "Hello World!It is a beautiful day!\n"
     ]
    }
   ],
   "source": [
    "x = x + \"It is a beautiful day!\"\n",
    "print(x)"
   ]
  },
  {
   "cell_type": "code",
   "execution_count": 5,
   "id": "9f0fc0a3-e15a-419f-9402-99d9f2db1d08",
   "metadata": {},
   "outputs": [
    {
     "name": "stdout",
     "output_type": "stream",
     "text": [
      "zzzzzzzzzz\n"
     ]
    }
   ],
   "source": [
    "letter = 'z'\n",
    "print(letter*10)"
   ]
  },
  {
   "cell_type": "markdown",
   "id": "5c95b24d-d2bb-4138-af43-17963633ed06",
   "metadata": {},
   "source": [
    "Trying to concatenate a string with a number will result in an error."
   ]
  },
  {
   "cell_type": "code",
   "execution_count": 6,
   "id": "73854499-1f30-4599-8662-f86ab8b3209d",
   "metadata": {},
   "outputs": [
    {
     "name": "stdout",
     "output_type": "stream",
     "text": [
      "5\n"
     ]
    }
   ],
   "source": [
    "print(2+3)"
   ]
  },
  {
   "cell_type": "code",
   "execution_count": 7,
   "id": "f6fed0f5-ef33-40a9-a430-e00af8c8af6f",
   "metadata": {},
   "outputs": [
    {
     "name": "stdout",
     "output_type": "stream",
     "text": [
      "23\n"
     ]
    }
   ],
   "source": [
    "print('2'+'3')"
   ]
  },
  {
   "cell_type": "markdown",
   "id": "4f3c029f-b986-401e-bbd3-8e1717b63a87",
   "metadata": {},
   "source": [
    "# String methods"
   ]
  },
  {
   "cell_type": "code",
   "execution_count": 8,
   "id": "d31251a1-5dbd-45e3-abec-f43be7948e28",
   "metadata": {},
   "outputs": [
    {
     "data": {
      "text/plain": [
       "'HELLO WORLD!IT IS A BEAUTIFUL DAY!'"
      ]
     },
     "execution_count": 8,
     "metadata": {},
     "output_type": "execute_result"
    }
   ],
   "source": [
    "x.upper()"
   ]
  },
  {
   "cell_type": "markdown",
   "id": "708462db-2731-42a3-bde7-7c32b60864c2",
   "metadata": {},
   "source": [
    "Methods do not affect the original string."
   ]
  },
  {
   "cell_type": "code",
   "execution_count": 9,
   "id": "4a3471ee-8b1a-4966-b06b-de9a5f3b3104",
   "metadata": {},
   "outputs": [
    {
     "name": "stdout",
     "output_type": "stream",
     "text": [
      "Hello World!It is a beautiful day!\n"
     ]
    }
   ],
   "source": [
    "print(x)"
   ]
  },
  {
   "cell_type": "code",
   "execution_count": 10,
   "id": "33755140-68f4-4fc1-a954-fe2eab226afe",
   "metadata": {},
   "outputs": [
    {
     "data": {
      "text/plain": [
       "'hello world!it is a beautiful day!'"
      ]
     },
     "execution_count": 10,
     "metadata": {},
     "output_type": "execute_result"
    }
   ],
   "source": [
    "x.lower()"
   ]
  },
  {
   "cell_type": "code",
   "execution_count": 11,
   "id": "3dd5cb0f-2aad-4f60-bcea-ed4916e59f13",
   "metadata": {},
   "outputs": [
    {
     "data": {
      "text/plain": [
       "['Hello', 'World!It', 'is', 'a', 'beautiful', 'day!']"
      ]
     },
     "execution_count": 11,
     "metadata": {},
     "output_type": "execute_result"
    }
   ],
   "source": [
    "# Creates a list out of a string, based on whitespace (default)\n",
    "# or on a character you pass in\n",
    "x.split()"
   ]
  },
  {
   "cell_type": "code",
   "execution_count": 12,
   "id": "0dc5e9f0-7388-4462-aa7b-48d9af216eb6",
   "metadata": {},
   "outputs": [
    {
     "data": {
      "text/plain": [
       "['Hello World', 'It is a beautiful day', '']"
      ]
     },
     "execution_count": 12,
     "metadata": {},
     "output_type": "execute_result"
    }
   ],
   "source": [
    "x.split('!')"
   ]
  },
  {
   "cell_type": "markdown",
   "id": "ae936465-23ff-4dc8-bb04-71f4bea5ff24",
   "metadata": {},
   "source": [
    "Note that the split character does not appear on the list."
   ]
  },
  {
   "cell_type": "markdown",
   "id": "5e43e477-0eb8-44bb-8edd-b6865bd6e293",
   "metadata": {},
   "source": [
    "# String formatting\n",
    "\n",
    "## Using the .format() method"
   ]
  },
  {
   "cell_type": "code",
   "execution_count": 13,
   "id": "52f2e1f2-a872-4bf4-985c-9411c62f1760",
   "metadata": {},
   "outputs": [
    {
     "name": "stdout",
     "output_type": "stream",
     "text": [
      "This is a string INSERTED\n"
     ]
    }
   ],
   "source": [
    "print(\"This is a string {}\".format(\"INSERTED\"))"
   ]
  },
  {
   "cell_type": "markdown",
   "id": "8ded850c-b24f-4003-810c-c851c8f85f78",
   "metadata": {},
   "source": [
    "Strings can be inserted by index position:"
   ]
  },
  {
   "cell_type": "code",
   "execution_count": 14,
   "id": "95527129-2e27-41ff-ae7c-8b11ef78e127",
   "metadata": {},
   "outputs": [
    {
     "name": "stdout",
     "output_type": "stream",
     "text": [
      "The quick brown fox\n"
     ]
    }
   ],
   "source": [
    "print(\"The {2} {1} {0}\".format('fox', 'brown', 'quick'))"
   ]
  },
  {
   "cell_type": "code",
   "execution_count": 15,
   "id": "e751bc77-70ce-40e7-b424-40cedad1f6f9",
   "metadata": {},
   "outputs": [
    {
     "name": "stdout",
     "output_type": "stream",
     "text": [
      "The fox fox fox\n"
     ]
    }
   ],
   "source": [
    "print(\"The {0} {0} {0}\".format('fox', 'brown', 'quick'))"
   ]
  },
  {
   "cell_type": "markdown",
   "id": "e229a429-9b8a-4c41-a05c-827f757018db",
   "metadata": {},
   "source": [
    "You can assign keywords:"
   ]
  },
  {
   "cell_type": "code",
   "execution_count": 16,
   "id": "674f3782-bf24-4795-8aa0-1b14eff36229",
   "metadata": {},
   "outputs": [
    {
     "name": "stdout",
     "output_type": "stream",
     "text": [
      "The quick brown fox\n"
     ]
    }
   ],
   "source": [
    "print(\"The {q} {b} {f}\".format(f='fox', b='brown', q='quick'))"
   ]
  },
  {
   "cell_type": "markdown",
   "id": "075b5906-a316-4f56-b07f-3d6f80b26cf2",
   "metadata": {},
   "source": [
    "Float formatting: the format is `value:width.precision f`"
   ]
  },
  {
   "cell_type": "code",
   "execution_count": 17,
   "id": "7ae687f2-2649-42a8-a253-5f65f76b7bba",
   "metadata": {},
   "outputs": [
    {
     "name": "stdout",
     "output_type": "stream",
     "text": [
      "0.1287001287001287\n"
     ]
    }
   ],
   "source": [
    "result = 100/777\n",
    "print(result)"
   ]
  },
  {
   "cell_type": "code",
   "execution_count": 18,
   "id": "e7daabf6-a4b2-41f3-ae2d-ade74ade867c",
   "metadata": {},
   "outputs": [
    {
     "name": "stdout",
     "output_type": "stream",
     "text": [
      "The result was 0.1287001287001287\n"
     ]
    }
   ],
   "source": [
    "print(\"The result was {r}\".format(r=result))"
   ]
  },
  {
   "cell_type": "code",
   "execution_count": 19,
   "id": "0d2d435a-17cb-4ca3-9290-1ea46e06a964",
   "metadata": {},
   "outputs": [
    {
     "name": "stdout",
     "output_type": "stream",
     "text": [
      "The result was 0.129\n"
     ]
    }
   ],
   "source": [
    "print(\"The result was {r:1.3f}\".format(r=result))"
   ]
  },
  {
   "cell_type": "code",
   "execution_count": 20,
   "id": "85247f27-20cf-4575-b9e9-3a4977d2bf0b",
   "metadata": {},
   "outputs": [
    {
     "name": "stdout",
     "output_type": "stream",
     "text": [
      "The result was      0.129\n"
     ]
    }
   ],
   "source": [
    "print(\"The result was {r:10.3f}\".format(r=result))"
   ]
  },
  {
   "cell_type": "markdown",
   "id": "001c27e0-c52d-4a07-9343-59c37f49c842",
   "metadata": {},
   "source": [
    "## String literals"
   ]
  },
  {
   "cell_type": "code",
   "execution_count": 21,
   "id": "29d82199-51bb-4a4b-ab03-bcd5a4b4dd34",
   "metadata": {},
   "outputs": [],
   "source": [
    "name = \"Jose\""
   ]
  },
  {
   "cell_type": "code",
   "execution_count": 22,
   "id": "8ae4982b-830f-4b20-bbfd-5fd2e2f5e3c3",
   "metadata": {},
   "outputs": [
    {
     "name": "stdout",
     "output_type": "stream",
     "text": [
      "Hello, his name is Jose\n"
     ]
    }
   ],
   "source": [
    "print(\"Hello, his name is {}\".format(name))"
   ]
  },
  {
   "cell_type": "markdown",
   "id": "ff65f716-6592-4bcb-9d9d-552d94907200",
   "metadata": {},
   "source": [
    "String literal method: new from Python 3.6"
   ]
  },
  {
   "cell_type": "code",
   "execution_count": 23,
   "id": "fc64c8c0-1dd1-4e2c-b912-db24d76e2d5a",
   "metadata": {},
   "outputs": [
    {
     "name": "stdout",
     "output_type": "stream",
     "text": [
      "Hello, his name is Jose\n"
     ]
    }
   ],
   "source": [
    "print(f'Hello, his name is {name}')"
   ]
  },
  {
   "cell_type": "code",
   "execution_count": 24,
   "id": "db144727-3a8a-4fa7-8ef3-5ea1eaaaeb98",
   "metadata": {},
   "outputs": [
    {
     "name": "stdout",
     "output_type": "stream",
     "text": [
      "Sam is 3 years old.\n"
     ]
    }
   ],
   "source": [
    "name = \"Sam\"\n",
    "age = 3\n",
    "print(f'{name} is {age} years old.')"
   ]
  },
  {
   "cell_type": "markdown",
   "id": "42a215cd-b6e0-4a5c-9cc7-949ad0b92d5c",
   "metadata": {},
   "source": [
    "# Lists\n",
    "\n",
    "Ordered sequences that can hold a variety of object types."
   ]
  },
  {
   "cell_type": "code",
   "execution_count": 25,
   "id": "6de0618c-c20e-407f-9990-5ce6c23608fa",
   "metadata": {},
   "outputs": [],
   "source": [
    "my_list = [1, 2, 3]"
   ]
  },
  {
   "cell_type": "code",
   "execution_count": 26,
   "id": "a8d72f17-5e75-4423-a8f9-b44d7df4dcdc",
   "metadata": {},
   "outputs": [],
   "source": [
    "my_list = ['STRING', 100, 23.2]"
   ]
  },
  {
   "cell_type": "code",
   "execution_count": 27,
   "id": "95d5a7d1-000a-400a-a6c0-87beaf245acf",
   "metadata": {},
   "outputs": [
    {
     "data": {
      "text/plain": [
       "3"
      ]
     },
     "execution_count": 27,
     "metadata": {},
     "output_type": "execute_result"
    }
   ],
   "source": [
    "len(my_list)"
   ]
  },
  {
   "cell_type": "code",
   "execution_count": 28,
   "id": "a469bfbe-4e10-4142-8f54-124f4b5ef1c0",
   "metadata": {},
   "outputs": [
    {
     "name": "stdout",
     "output_type": "stream",
     "text": [
      "one\n"
     ]
    }
   ],
   "source": [
    "mylist = ['one', 'two', 'three']\n",
    "print(mylist[0])"
   ]
  },
  {
   "cell_type": "code",
   "execution_count": 29,
   "id": "4cfba401-bc72-47ca-808c-d1ed8a7b13d7",
   "metadata": {},
   "outputs": [
    {
     "data": {
      "text/plain": [
       "['two', 'three']"
      ]
     },
     "execution_count": 29,
     "metadata": {},
     "output_type": "execute_result"
    }
   ],
   "source": [
    "mylist[1:]"
   ]
  },
  {
   "cell_type": "markdown",
   "id": "fc7ac07e-bd89-4207-975c-2c039e5bbdd7",
   "metadata": {},
   "source": [
    "Concatenate lists together:"
   ]
  },
  {
   "cell_type": "code",
   "execution_count": 30,
   "id": "f42c6026-7e78-4c8b-aeb8-cbc93ea3cd77",
   "metadata": {},
   "outputs": [],
   "source": [
    "another_list = ['four', 'five']"
   ]
  },
  {
   "cell_type": "code",
   "execution_count": 31,
   "id": "3116161a-2f45-4909-b273-6bdfc4d35ba6",
   "metadata": {},
   "outputs": [
    {
     "data": {
      "text/plain": [
       "['one', 'two', 'three', 'four', 'five']"
      ]
     },
     "execution_count": 31,
     "metadata": {},
     "output_type": "execute_result"
    }
   ],
   "source": [
    "mylist + another_list"
   ]
  },
  {
   "cell_type": "markdown",
   "id": "3698af40-e666-48ae-85ee-dbf067bfcfca",
   "metadata": {},
   "source": [
    "Lists are mutable:"
   ]
  },
  {
   "cell_type": "code",
   "execution_count": 32,
   "id": "c96cecae-00ae-477e-a209-e3dc5c691d2f",
   "metadata": {},
   "outputs": [
    {
     "name": "stdout",
     "output_type": "stream",
     "text": [
      "['ONE ALL CAPS', 'two', 'three']\n"
     ]
    }
   ],
   "source": [
    "mylist[0] = 'ONE ALL CAPS'\n",
    "print(mylist)"
   ]
  },
  {
   "cell_type": "markdown",
   "id": "6623295d-e62e-4ed5-b2e8-acf28a44b186",
   "metadata": {},
   "source": [
    "Add an element to a list:"
   ]
  },
  {
   "cell_type": "code",
   "execution_count": 33,
   "id": "dc385980-751e-4ae0-97f4-c48bfc62362b",
   "metadata": {},
   "outputs": [
    {
     "name": "stdout",
     "output_type": "stream",
     "text": [
      "['ONE ALL CAPS', 'two', 'three', 'six']\n"
     ]
    }
   ],
   "source": [
    "# The append method modifies the list in place\n",
    "mylist.append('six')\n",
    "print(mylist)"
   ]
  },
  {
   "cell_type": "code",
   "execution_count": 34,
   "id": "3ba260b7-4fc0-4454-8948-b2c1aeda1ef8",
   "metadata": {},
   "outputs": [
    {
     "name": "stdout",
     "output_type": "stream",
     "text": [
      "['ONE ALL CAPS', 'two', 'three', 'six', 'seven']\n"
     ]
    }
   ],
   "source": [
    "mylist.append('seven')\n",
    "print(mylist)"
   ]
  },
  {
   "cell_type": "markdown",
   "id": "8764bca8-7efa-4264-a582-afcf5aba627e",
   "metadata": {},
   "source": [
    "Remove elements from a list:"
   ]
  },
  {
   "cell_type": "code",
   "execution_count": 35,
   "id": "83fb933d-0b09-4888-b4a9-767e8d54c5b5",
   "metadata": {},
   "outputs": [
    {
     "data": {
      "text/plain": [
       "'seven'"
      ]
     },
     "execution_count": 35,
     "metadata": {},
     "output_type": "execute_result"
    }
   ],
   "source": [
    "# Remove an element from the end of the list\n",
    "mylist.pop()"
   ]
  },
  {
   "cell_type": "code",
   "execution_count": 36,
   "id": "e1f85227-019e-4775-a61b-c57a7bc2ce0a",
   "metadata": {},
   "outputs": [
    {
     "name": "stdout",
     "output_type": "stream",
     "text": [
      "['ONE ALL CAPS', 'two', 'three', 'six']\n"
     ]
    }
   ],
   "source": [
    "print(mylist)"
   ]
  },
  {
   "cell_type": "code",
   "execution_count": 37,
   "id": "c642d44d-c156-494c-a0a3-33395c66f4ce",
   "metadata": {},
   "outputs": [
    {
     "name": "stdout",
     "output_type": "stream",
     "text": [
      "['two', 'three', 'six']\n"
     ]
    }
   ],
   "source": [
    "# Pass an index position\n",
    "mylist.pop(0)\n",
    "print(mylist)"
   ]
  },
  {
   "cell_type": "markdown",
   "id": "7a8d15b3-611c-409d-95b3-6e59fb28bf5c",
   "metadata": {},
   "source": [
    "## Sort a list"
   ]
  },
  {
   "cell_type": "code",
   "execution_count": 38,
   "id": "b7c64d52-cf58-461a-aa49-1b72733eac64",
   "metadata": {},
   "outputs": [],
   "source": [
    "new_list = ['a', 'e', 'x', 'b', 'c']\n",
    "num_list = [4, 1, 8, 3]"
   ]
  },
  {
   "cell_type": "code",
   "execution_count": 39,
   "id": "5c22ec79-daaa-42ee-9884-dd4d98a03a95",
   "metadata": {},
   "outputs": [
    {
     "name": "stdout",
     "output_type": "stream",
     "text": [
      "['a', 'b', 'c', 'e', 'x']\n"
     ]
    }
   ],
   "source": [
    "# Sort in place\n",
    "new_list.sort()\n",
    "print(new_list)"
   ]
  },
  {
   "cell_type": "markdown",
   "id": "173897d9-585a-44a9-a35a-496929804d98",
   "metadata": {
    "jp-MarkdownHeadingCollapsed": true,
    "tags": []
   },
   "source": [
    "Note: the `sort()` method does not return anything (actually returns `NoneType`)"
   ]
  },
  {
   "cell_type": "code",
   "execution_count": 40,
   "id": "5d9c3ebf-d254-4afd-a71c-a1ccc3341c1d",
   "metadata": {},
   "outputs": [
    {
     "name": "stdout",
     "output_type": "stream",
     "text": [
      "[3, 8, 1, 4]\n"
     ]
    }
   ],
   "source": [
    "num_list.reverse()\n",
    "print(num_list)"
   ]
  },
  {
   "cell_type": "markdown",
   "id": "a036d1e7-6add-435a-a36e-667b9ebafc45",
   "metadata": {},
   "source": [
    "# Dictionaries\n",
    "\n",
    "Dictionaries are unordered mappings for storing objects. Dictionaries use key-value pairing - objects are retrieved by key name.\n",
    "\n",
    "Keys should always be strings."
   ]
  },
  {
   "cell_type": "code",
   "execution_count": 41,
   "id": "3f5222c9-fd80-4973-ada2-eee4371754a6",
   "metadata": {},
   "outputs": [],
   "source": [
    "my_dict = {'key1':'value1', 'key2':'value2'}"
   ]
  },
  {
   "cell_type": "code",
   "execution_count": 42,
   "id": "22437f8c-5a94-4e2a-a80a-7907668f8f02",
   "metadata": {},
   "outputs": [
    {
     "data": {
      "text/plain": [
       "{'key1': 'value1', 'key2': 'value2'}"
      ]
     },
     "execution_count": 42,
     "metadata": {},
     "output_type": "execute_result"
    }
   ],
   "source": [
    "my_dict"
   ]
  },
  {
   "cell_type": "code",
   "execution_count": 43,
   "id": "e935447a-8a08-4c8e-a038-cbb2d4fcab84",
   "metadata": {},
   "outputs": [
    {
     "data": {
      "text/plain": [
       "'value1'"
      ]
     },
     "execution_count": 43,
     "metadata": {},
     "output_type": "execute_result"
    }
   ],
   "source": [
    "my_dict['key1']"
   ]
  },
  {
   "cell_type": "code",
   "execution_count": 44,
   "id": "e256420e-2fbd-41b7-95e0-b3fd52883c10",
   "metadata": {},
   "outputs": [],
   "source": [
    "prices_lookup = {'apple': 2.99, 'oranges': 1.99, 'milk': 5.80}"
   ]
  },
  {
   "cell_type": "code",
   "execution_count": 45,
   "id": "a2c96efd-a7b7-4aad-9c7d-b41cc2de13be",
   "metadata": {},
   "outputs": [
    {
     "data": {
      "text/plain": [
       "2.99"
      ]
     },
     "execution_count": 45,
     "metadata": {},
     "output_type": "execute_result"
    }
   ],
   "source": [
    "prices_lookup['apple']"
   ]
  },
  {
   "cell_type": "markdown",
   "id": "d37df2ef-3873-4324-a25d-792aafee81d0",
   "metadata": {},
   "source": [
    "Dictionaries can hold many data types, including lists or other dictionaries."
   ]
  },
  {
   "cell_type": "code",
   "execution_count": 46,
   "id": "398b43a3-5c55-4420-92be-a38e9b77fc95",
   "metadata": {},
   "outputs": [],
   "source": [
    "d = {'k1': 123, 'k2': [0,1,2], 'k3':{'insideKey': 100}}"
   ]
  },
  {
   "cell_type": "code",
   "execution_count": 47,
   "id": "7e98f9c4-91ae-42bf-80e1-958841878699",
   "metadata": {},
   "outputs": [
    {
     "data": {
      "text/plain": [
       "[0, 1, 2]"
      ]
     },
     "execution_count": 47,
     "metadata": {},
     "output_type": "execute_result"
    }
   ],
   "source": [
    "d['k2']"
   ]
  },
  {
   "cell_type": "code",
   "execution_count": 49,
   "id": "29118e5c-ee23-4b66-b6b7-e3f7642bb1ff",
   "metadata": {},
   "outputs": [
    {
     "data": {
      "text/plain": [
       "100"
      ]
     },
     "execution_count": 49,
     "metadata": {},
     "output_type": "execute_result"
    }
   ],
   "source": [
    "d['k3']['insideKey']"
   ]
  },
  {
   "cell_type": "code",
   "execution_count": 50,
   "id": "cc596992-6280-4adf-aaed-4e6ac7f17d61",
   "metadata": {},
   "outputs": [],
   "source": [
    "d = {'key1': ['a', 'b', 'c']}"
   ]
  },
  {
   "cell_type": "code",
   "execution_count": 51,
   "id": "889cf52b-87bd-4e6f-8f95-b60890e26fa8",
   "metadata": {},
   "outputs": [
    {
     "data": {
      "text/plain": [
       "'C'"
      ]
     },
     "execution_count": 51,
     "metadata": {},
     "output_type": "execute_result"
    }
   ],
   "source": [
    "# Change the letter 'c' to uppercase, stacking calls\n",
    "d['key1'][2].upper()"
   ]
  },
  {
   "cell_type": "markdown",
   "id": "d70ea18d-41f2-41ac-9b9d-8332fdcaabd3",
   "metadata": {},
   "source": [
    "Add an element (key-value pair) to a dictionary:"
   ]
  },
  {
   "cell_type": "code",
   "execution_count": 52,
   "id": "dd92c97b-97ac-466b-9e9d-438bcaf9e5df",
   "metadata": {},
   "outputs": [],
   "source": [
    "d['key2'] = 300"
   ]
  },
  {
   "cell_type": "code",
   "execution_count": 53,
   "id": "034cb74d-d419-46a7-ac9d-7f8e581fa38d",
   "metadata": {},
   "outputs": [
    {
     "data": {
      "text/plain": [
       "{'key1': ['a', 'b', 'c'], 'key2': 300}"
      ]
     },
     "execution_count": 53,
     "metadata": {},
     "output_type": "execute_result"
    }
   ],
   "source": [
    "d"
   ]
  },
  {
   "cell_type": "markdown",
   "id": "a43cea03-65f7-4e3c-8094-2393f685a8ab",
   "metadata": {},
   "source": [
    "Change a value:"
   ]
  },
  {
   "cell_type": "code",
   "execution_count": 55,
   "id": "007d31be-d470-4085-9d0e-943e68282274",
   "metadata": {},
   "outputs": [
    {
     "name": "stdout",
     "output_type": "stream",
     "text": [
      "{'key1': ['a', 'b', 'c'], 'key2': 'NEW VALUE 300'}\n"
     ]
    }
   ],
   "source": [
    "d['key2'] = 'NEW VALUE 300'\n",
    "print(d)"
   ]
  },
  {
   "cell_type": "markdown",
   "id": "d1a66d57-412c-4b37-bbed-d035a0555dd9",
   "metadata": {},
   "source": [
    "## Dictionary methods"
   ]
  },
  {
   "cell_type": "code",
   "execution_count": 56,
   "id": "75eb6d1b-b3be-4392-9040-0459d4326b32",
   "metadata": {},
   "outputs": [
    {
     "data": {
      "text/plain": [
       "dict_values([100, 200, 300])"
      ]
     },
     "execution_count": 56,
     "metadata": {},
     "output_type": "execute_result"
    }
   ],
   "source": [
    "d = {'k1':100, 'k2':200, 'k3':300}\n",
    "d.values()"
   ]
  },
  {
   "cell_type": "code",
   "execution_count": 57,
   "id": "25568f82-290c-4b44-a166-6719a4707b2f",
   "metadata": {},
   "outputs": [
    {
     "data": {
      "text/plain": [
       "dict_items([('k1', 100), ('k2', 200), ('k3', 300)])"
      ]
     },
     "execution_count": 57,
     "metadata": {},
     "output_type": "execute_result"
    }
   ],
   "source": [
    "d.items()"
   ]
  },
  {
   "cell_type": "code",
   "execution_count": 58,
   "id": "6ad4d9d5-823d-4ec6-b553-586fea29a432",
   "metadata": {},
   "outputs": [
    {
     "data": {
      "text/plain": [
       "dict_keys(['k1', 'k2', 'k3'])"
      ]
     },
     "execution_count": 58,
     "metadata": {},
     "output_type": "execute_result"
    }
   ],
   "source": [
    "d.keys()"
   ]
  },
  {
   "cell_type": "markdown",
   "id": "6073a842-b364-4b45-a948-40ce4c9cea26",
   "metadata": {},
   "source": [
    "# Tuples\n",
    "\n",
    "Similar to lists, but they are immutable."
   ]
  },
  {
   "cell_type": "code",
   "execution_count": 59,
   "id": "0578f09f-7f9b-46e0-ac2d-cc411cf0ad00",
   "metadata": {},
   "outputs": [],
   "source": [
    "t = (1,2,3)\n",
    "mylist = [1,2,3]"
   ]
  },
  {
   "cell_type": "code",
   "execution_count": 60,
   "id": "84e07a5f-abc0-4885-b45a-15e3da0a9fd7",
   "metadata": {},
   "outputs": [
    {
     "data": {
      "text/plain": [
       "tuple"
      ]
     },
     "execution_count": 60,
     "metadata": {},
     "output_type": "execute_result"
    }
   ],
   "source": [
    "type(t)"
   ]
  },
  {
   "cell_type": "code",
   "execution_count": 61,
   "id": "53cbcd25-7f8c-4898-8650-bf6e5932ce39",
   "metadata": {},
   "outputs": [
    {
     "data": {
      "text/plain": [
       "list"
      ]
     },
     "execution_count": 61,
     "metadata": {},
     "output_type": "execute_result"
    }
   ],
   "source": [
    "type(mylist)"
   ]
  },
  {
   "cell_type": "code",
   "execution_count": 62,
   "id": "cc040bb2-36de-4459-8a49-e1ea2c3431ef",
   "metadata": {},
   "outputs": [
    {
     "data": {
      "text/plain": [
       "3"
      ]
     },
     "execution_count": 62,
     "metadata": {},
     "output_type": "execute_result"
    }
   ],
   "source": [
    "len(t)"
   ]
  },
  {
   "cell_type": "code",
   "execution_count": 63,
   "id": "650a0adc-c6db-4bc0-814b-965133861af4",
   "metadata": {},
   "outputs": [],
   "source": [
    "t = ('one', 2)"
   ]
  },
  {
   "cell_type": "code",
   "execution_count": 64,
   "id": "fb040880-4e5c-418f-a05e-21ffe64f6eee",
   "metadata": {},
   "outputs": [
    {
     "data": {
      "text/plain": [
       "2"
      ]
     },
     "execution_count": 64,
     "metadata": {},
     "output_type": "execute_result"
    }
   ],
   "source": [
    "t[-1]"
   ]
  },
  {
   "cell_type": "markdown",
   "id": "005dac53-3aaf-4d16-911b-80cf2d441ab4",
   "metadata": {},
   "source": [
    "Built-in methods for tuples: there are only two"
   ]
  },
  {
   "cell_type": "code",
   "execution_count": 65,
   "id": "164317d1-a4f8-49ae-a993-cff270d5f25e",
   "metadata": {},
   "outputs": [
    {
     "data": {
      "text/plain": [
       "2"
      ]
     },
     "execution_count": 65,
     "metadata": {},
     "output_type": "execute_result"
    }
   ],
   "source": [
    "t = ('a', 'a', 'b')\n",
    "\n",
    "# How many times the element appears in the tuple\n",
    "t.count('a')"
   ]
  },
  {
   "cell_type": "code",
   "execution_count": 66,
   "id": "817f6bf3-8de1-4ae8-9432-084a1e46f4d4",
   "metadata": {},
   "outputs": [
    {
     "data": {
      "text/plain": [
       "0"
      ]
     },
     "execution_count": 66,
     "metadata": {},
     "output_type": "execute_result"
    }
   ],
   "source": [
    "# First time an element appears in the tuple\n",
    "t.index('a')"
   ]
  },
  {
   "cell_type": "code",
   "execution_count": 67,
   "id": "ecc9a88e-1a5e-41ef-8083-175dd1e5f138",
   "metadata": {},
   "outputs": [
    {
     "data": {
      "text/plain": [
       "2"
      ]
     },
     "execution_count": 67,
     "metadata": {},
     "output_type": "execute_result"
    }
   ],
   "source": [
    "t.index('b')"
   ]
  },
  {
   "cell_type": "markdown",
   "id": "6b78b6ef-70e8-434c-9412-de7f6a310d62",
   "metadata": {},
   "source": [
    "# Sets\n",
    "\n",
    "Unordered collections of unique elements."
   ]
  },
  {
   "cell_type": "code",
   "execution_count": 68,
   "id": "97648b66-76bf-4895-bf02-f89d0a5aa062",
   "metadata": {},
   "outputs": [],
   "source": [
    "# Create an empty set\n",
    "myset = set()"
   ]
  },
  {
   "cell_type": "code",
   "execution_count": 69,
   "id": "265e8190-6a41-480c-88c0-3fd4ca0063e6",
   "metadata": {},
   "outputs": [],
   "source": [
    "# Add one object\n",
    "myset.add(1)"
   ]
  },
  {
   "cell_type": "code",
   "execution_count": 70,
   "id": "b153a031-903c-456b-9aec-86234970adf0",
   "metadata": {},
   "outputs": [
    {
     "data": {
      "text/plain": [
       "{1}"
      ]
     },
     "execution_count": 70,
     "metadata": {},
     "output_type": "execute_result"
    }
   ],
   "source": [
    "myset"
   ]
  },
  {
   "cell_type": "code",
   "execution_count": 71,
   "id": "a113ff88-86bc-4e71-9fe4-ccedf937f3c5",
   "metadata": {},
   "outputs": [
    {
     "name": "stdout",
     "output_type": "stream",
     "text": [
      "{1, 2}\n"
     ]
    }
   ],
   "source": [
    "myset.add(2)\n",
    "print(myset)"
   ]
  },
  {
   "cell_type": "markdown",
   "id": "2b161c19-b0e7-44b0-b774-1aa165735b51",
   "metadata": {},
   "source": [
    "If you try to add a value that's already on the set, Python won't repeat it."
   ]
  },
  {
   "cell_type": "code",
   "execution_count": 72,
   "id": "c825f473-4c85-4472-a7f8-3d829d46d775",
   "metadata": {},
   "outputs": [
    {
     "data": {
      "text/plain": [
       "{1, 2}"
      ]
     },
     "execution_count": 72,
     "metadata": {},
     "output_type": "execute_result"
    }
   ],
   "source": [
    "mylist = [1,1,1,1,1,2,2,2,2,2,2]\n",
    "set(mylist)"
   ]
  },
  {
   "cell_type": "markdown",
   "id": "9ca769db-5e6b-44ca-b646-22b4e3bc2da4",
   "metadata": {},
   "source": [
    "# Booleans\n",
    "\n",
    "Booleans are operators that allow you to convey **True** or **False** statements."
   ]
  },
  {
   "cell_type": "code",
   "execution_count": 73,
   "id": "31878871-0a42-4704-b630-91dd4d100d0f",
   "metadata": {},
   "outputs": [
    {
     "data": {
      "text/plain": [
       "bool"
      ]
     },
     "execution_count": 73,
     "metadata": {},
     "output_type": "execute_result"
    }
   ],
   "source": [
    "type(False)"
   ]
  },
  {
   "cell_type": "code",
   "execution_count": 74,
   "id": "bc42cdcc-a16d-4c69-9eeb-7693d75a2a9d",
   "metadata": {},
   "outputs": [
    {
     "data": {
      "text/plain": [
       "False"
      ]
     },
     "execution_count": 74,
     "metadata": {},
     "output_type": "execute_result"
    }
   ],
   "source": [
    "1 > 2"
   ]
  },
  {
   "cell_type": "code",
   "execution_count": 75,
   "id": "0d3c256e-3d73-4c87-8d30-3ce23840e382",
   "metadata": {},
   "outputs": [
    {
     "data": {
      "text/plain": [
       "True"
      ]
     },
     "execution_count": 75,
     "metadata": {},
     "output_type": "execute_result"
    }
   ],
   "source": [
    "1 == 1"
   ]
  },
  {
   "cell_type": "markdown",
   "id": "d6611ba3-4765-4ad4-b032-69f26c445bab",
   "metadata": {},
   "source": [
    "# Simple I/O\n",
    "\n",
    "Using Jupyter's \"magic\" functionality to quickly write a text file:"
   ]
  },
  {
   "cell_type": "code",
   "execution_count": 76,
   "id": "951f8f04-5698-47b4-bbf0-be39f20458e0",
   "metadata": {},
   "outputs": [
    {
     "name": "stdout",
     "output_type": "stream",
     "text": [
      "Writing myfile.txt\n"
     ]
    }
   ],
   "source": [
    "%%writefile myfile.txt\n",
    "Hello this is a text file\n",
    "This is the second line\n",
    "this is the third line"
   ]
  },
  {
   "cell_type": "code",
   "execution_count": 77,
   "id": "bcd1e2dd-c357-46be-9027-0f44d71fe8e9",
   "metadata": {},
   "outputs": [],
   "source": [
    "myfile = open('myfile.txt')"
   ]
  },
  {
   "cell_type": "markdown",
   "id": "c933d59b-f81d-4918-877a-3635aa949664",
   "metadata": {},
   "source": [
    "Current working directory:"
   ]
  },
  {
   "cell_type": "code",
   "execution_count": 78,
   "id": "917cf078-3e91-4b13-96a7-cecbc4d15402",
   "metadata": {},
   "outputs": [
    {
     "data": {
      "text/plain": [
       "'/home/vagrant/python_bootcamp'"
      ]
     },
     "execution_count": 78,
     "metadata": {},
     "output_type": "execute_result"
    }
   ],
   "source": [
    "pwd"
   ]
  },
  {
   "cell_type": "code",
   "execution_count": 79,
   "id": "60743e24-8da3-4f39-8009-66b297f04a50",
   "metadata": {},
   "outputs": [
    {
     "data": {
      "text/plain": [
       "'Hello this is a text file\\nThis is the second line\\nthis is the third line\\n'"
      ]
     },
     "execution_count": 79,
     "metadata": {},
     "output_type": "execute_result"
    }
   ],
   "source": [
    "# Returns a giant string with everything that's in the file\n",
    "myfile.read()"
   ]
  },
  {
   "cell_type": "markdown",
   "id": "caeb2b14-35e6-492f-a55e-670cb920e022",
   "metadata": {},
   "source": [
    "To reread the file you need to reset the read cursor:"
   ]
  },
  {
   "cell_type": "code",
   "execution_count": 80,
   "id": "5055ea27-6c2e-4988-9b75-71f9b72f4426",
   "metadata": {},
   "outputs": [
    {
     "data": {
      "text/plain": [
       "''"
      ]
     },
     "execution_count": 80,
     "metadata": {},
     "output_type": "execute_result"
    }
   ],
   "source": [
    "myfile.read()"
   ]
  },
  {
   "cell_type": "code",
   "execution_count": 81,
   "id": "7392cf85-0f01-493f-a90b-76cd39eaab72",
   "metadata": {},
   "outputs": [
    {
     "data": {
      "text/plain": [
       "0"
      ]
     },
     "execution_count": 81,
     "metadata": {},
     "output_type": "execute_result"
    }
   ],
   "source": [
    "myfile.seek(0)"
   ]
  },
  {
   "cell_type": "code",
   "execution_count": 82,
   "id": "c63dcd11-ba05-4744-b622-c2f3a3c5cef5",
   "metadata": {},
   "outputs": [
    {
     "name": "stdout",
     "output_type": "stream",
     "text": [
      "Hello this is a text file\n",
      "This is the second line\n",
      "this is the third line\n",
      "\n"
     ]
    }
   ],
   "source": [
    "contents = myfile.read()\n",
    "print(contents)"
   ]
  },
  {
   "cell_type": "code",
   "execution_count": 84,
   "id": "855ca3c6-6241-4ba1-a363-2f5a6c437c16",
   "metadata": {},
   "outputs": [
    {
     "data": {
      "text/plain": [
       "['Hello this is a text file\\n',\n",
       " 'This is the second line\\n',\n",
       " 'this is the third line\\n']"
      ]
     },
     "execution_count": 84,
     "metadata": {},
     "output_type": "execute_result"
    }
   ],
   "source": [
    "# Return the lines in the file as a list\n",
    "myfile.seek(0)\n",
    "myfile.readlines()"
   ]
  },
  {
   "cell_type": "code",
   "execution_count": 85,
   "id": "912b268e-cfa3-43c3-a9f7-1ec08ae4adae",
   "metadata": {},
   "outputs": [],
   "source": [
    "# Close the file to finish\n",
    "myfile.close()"
   ]
  },
  {
   "cell_type": "markdown",
   "id": "2d5acd4b-3ddd-4241-b0ba-b3cca0f4827d",
   "metadata": {},
   "source": [
    "To avoid having to manually close the file:"
   ]
  },
  {
   "cell_type": "code",
   "execution_count": 86,
   "id": "0cd7e1bd-a31d-4e29-99e4-ef803ef8399e",
   "metadata": {},
   "outputs": [],
   "source": [
    "with open('myfile.txt') as my_new_file:\n",
    "    contents = my_new_file.read()"
   ]
  },
  {
   "cell_type": "code",
   "execution_count": 87,
   "id": "13bb83c5-3bbb-4e97-9a04-7f66f019cdfa",
   "metadata": {},
   "outputs": [
    {
     "data": {
      "text/plain": [
       "'Hello this is a text file\\nThis is the second line\\nthis is the third line\\n'"
      ]
     },
     "execution_count": 87,
     "metadata": {},
     "output_type": "execute_result"
    }
   ],
   "source": [
    "contents"
   ]
  },
  {
   "cell_type": "markdown",
   "id": "1202058f-8d0d-4e2d-9c27-1e5c4ff23b58",
   "metadata": {},
   "source": [
    "## File locations\n",
    "\n",
    "To open files at another location on your computer, simply pass in the entire file path.\n",
    "\n",
    "Windows: you need to use double `\\` so Python doesn't treat the second `\\` as an escape character, e.g.\n",
    "\n",
    "``` python\n",
    "myfile = open(\"C:\\\\Users\\\\UserName\\\\Folder\\\\text.txt\")\n",
    "```\n",
    "\n",
    "For MacOS and Linux:\n",
    "\n",
    "``` python\n",
    "myfile = open(\"/Users/UserName/Folder/text.txt\")\n",
    "```"
   ]
  },
  {
   "cell_type": "markdown",
   "id": "ae8d2b66-95e1-4713-b576-8665e4f58fa6",
   "metadata": {},
   "source": [
    "## Reading and writing to file\n",
    "\n",
    "Depending on the mode you choose you can read or write to file (permissions).\n",
    "\n",
    "- **mode='r'** is read-only\n",
    "- **mode='w'** is write-only (will overwrite files or create new)\n",
    "- **mode='a'** is append only (will add on to files)\n",
    "- **mode='r+'** is reading and writing\n",
    "- **mode='w+'** is writing and reading (overwrites existing files or creates a new one)"
   ]
  },
  {
   "cell_type": "code",
   "execution_count": 88,
   "id": "a73bcda4-3865-4fb1-b0ff-e6434349a31b",
   "metadata": {},
   "outputs": [],
   "source": [
    "with open('myfile.txt', mode='r') as myfile:\n",
    "    contents = myfile.read()"
   ]
  },
  {
   "cell_type": "code",
   "execution_count": 89,
   "id": "fd9c1a92-cd8f-4b49-8ac4-bcb4872427f7",
   "metadata": {},
   "outputs": [
    {
     "name": "stdout",
     "output_type": "stream",
     "text": [
      "Writing my_new_file.txt\n"
     ]
    }
   ],
   "source": [
    "%%writefile my_new_file.txt\n",
    "ONE ON FIRST\n",
    "TWO ON SECOND\n",
    "THREE ON THIRD"
   ]
  },
  {
   "cell_type": "code",
   "execution_count": 90,
   "id": "6a449d31-f90d-429a-adc3-94d199623d57",
   "metadata": {},
   "outputs": [
    {
     "name": "stdout",
     "output_type": "stream",
     "text": [
      "ONE ON FIRST\n",
      "TWO ON SECOND\n",
      "THREE ON THIRD\n",
      "\n"
     ]
    }
   ],
   "source": [
    "with open('my_new_file.txt', mode='r') as f:\n",
    "    print(f.read())"
   ]
  },
  {
   "cell_type": "code",
   "execution_count": 91,
   "id": "11cfb316-debd-4d79-b1d1-4bc2c263cca0",
   "metadata": {},
   "outputs": [],
   "source": [
    "# Add a new line\n",
    "with open('my_new_file.txt', mode='a') as f:\n",
    "    f.write('FOUR ON FOURTH')"
   ]
  },
  {
   "cell_type": "code",
   "execution_count": 92,
   "id": "9c2e3b12-a5bb-420e-b4ad-2a5a3c0a4204",
   "metadata": {},
   "outputs": [
    {
     "name": "stdout",
     "output_type": "stream",
     "text": [
      "ONE ON FIRST\n",
      "TWO ON SECOND\n",
      "THREE ON THIRD\n",
      "FOUR ON FOURTH\n"
     ]
    }
   ],
   "source": [
    "with open('my_new_file.txt', mode='r') as f:\n",
    "    print(f.read())"
   ]
  },
  {
   "cell_type": "code",
   "execution_count": null,
   "id": "6d1a9a39-27c2-49ab-a5f0-0e20f1588a2f",
   "metadata": {},
   "outputs": [],
   "source": []
  }
 ],
 "metadata": {
  "kernelspec": {
   "display_name": "Python 3 (ipykernel)",
   "language": "python",
   "name": "python3"
  },
  "language_info": {
   "codemirror_mode": {
    "name": "ipython",
    "version": 3
   },
   "file_extension": ".py",
   "mimetype": "text/x-python",
   "name": "python",
   "nbconvert_exporter": "python",
   "pygments_lexer": "ipython3",
   "version": "3.9.6"
  }
 },
 "nbformat": 4,
 "nbformat_minor": 5
}
