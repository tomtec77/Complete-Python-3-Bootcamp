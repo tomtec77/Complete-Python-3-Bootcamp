{
 "cells": [
  {
   "cell_type": "markdown",
   "id": "694f8296-df43-4de3-9ba8-5729620cba13",
   "metadata": {},
   "source": [
    "# Methods and Functions"
   ]
  },
  {
   "cell_type": "markdown",
   "id": "71902a48-045d-439b-9808-b2f65c758a03",
   "metadata": {},
   "source": [
    "Help function: Shift+Tab in Jupyter after writing the method, or use the help function"
   ]
  },
  {
   "cell_type": "code",
   "execution_count": 1,
   "id": "fde480ab-eb1c-4f94-bd30-eb2df3253b67",
   "metadata": {},
   "outputs": [],
   "source": [
    "mylist = [1,2,3,4]"
   ]
  },
  {
   "cell_type": "code",
   "execution_count": 2,
   "id": "1081e969-988d-442a-aece-5a2a71824606",
   "metadata": {},
   "outputs": [
    {
     "name": "stdout",
     "output_type": "stream",
     "text": [
      "Help on built-in function insert:\n",
      "\n",
      "insert(index, object, /) method of builtins.list instance\n",
      "    Insert object before index.\n",
      "\n"
     ]
    }
   ],
   "source": [
    "help(mylist.insert)"
   ]
  },
  {
   "cell_type": "markdown",
   "id": "c8c34355-6515-42a8-93bd-ee7b50522a23",
   "metadata": {},
   "source": [
    "Python documentation: https://docs.python.org/"
   ]
  },
  {
   "cell_type": "markdown",
   "id": "b933211d-0dc7-4745-b2d2-089065beb74f",
   "metadata": {},
   "source": [
    "## Functions\n",
    "Blocks of code that can be easily executed many times, without needing to constantly rewrite the entire block.\n",
    "\n",
    "Basic syntax:\n",
    "\n",
    "``` python\n",
    "def name_of_function(argument):\n",
    "    \"\"\"\n",
    "    Docstring: optional multi-line comment which explains what the function does\n",
    "    \"\"\"\n",
    "    # do something\n",
    "```\n",
    "\n",
    "\"Snake casing\": all lowercase with underscores between words.\n",
    "\n",
    "Typically we use the `return` keyword to send back the result of the function."
   ]
  },
  {
   "cell_type": "code",
   "execution_count": 3,
   "id": "b8eba452-8967-42b5-8e58-f1829a515441",
   "metadata": {},
   "outputs": [],
   "source": [
    "def add_function(num1, num2):\n",
    "    return num1+num2"
   ]
  },
  {
   "cell_type": "code",
   "execution_count": 4,
   "id": "54339828-59f6-43a6-b650-9c9f379c2dc5",
   "metadata": {},
   "outputs": [
    {
     "name": "stdout",
     "output_type": "stream",
     "text": [
      "3\n"
     ]
    }
   ],
   "source": [
    "result = add_function(1,2)\n",
    "print(result)"
   ]
  },
  {
   "cell_type": "code",
   "execution_count": 5,
   "id": "28e8bbfc-5e96-49c3-be9b-cf13113f1d32",
   "metadata": {},
   "outputs": [],
   "source": [
    "def say_hello():\n",
    "    print(\"Hello\")"
   ]
  },
  {
   "cell_type": "code",
   "execution_count": 6,
   "id": "20c7ecc9-190c-4727-9e4c-ca0f262011d3",
   "metadata": {},
   "outputs": [
    {
     "name": "stdout",
     "output_type": "stream",
     "text": [
      "Hello\n"
     ]
    }
   ],
   "source": [
    "say_hello()"
   ]
  },
  {
   "cell_type": "code",
   "execution_count": 7,
   "id": "bd8f45cf-9b3e-4ae0-9ac2-6722d38967cd",
   "metadata": {},
   "outputs": [],
   "source": [
    "def say_hello2():\n",
    "    print(\"Hello\")\n",
    "    print(\"Hola!\")\n",
    "    print(\"You\")"
   ]
  },
  {
   "cell_type": "code",
   "execution_count": 8,
   "id": "ba0ace96-33d3-445b-8306-59d1c6ed7a20",
   "metadata": {},
   "outputs": [
    {
     "name": "stdout",
     "output_type": "stream",
     "text": [
      "Hello\n",
      "Hola!\n",
      "You\n"
     ]
    }
   ],
   "source": [
    "say_hello2()"
   ]
  },
  {
   "cell_type": "code",
   "execution_count": 9,
   "id": "18a2fcfa-5fb3-4d08-be02-2b745e25b923",
   "metadata": {},
   "outputs": [],
   "source": [
    "def say_hello(name):\n",
    "    print(f'Hello {name}')"
   ]
  },
  {
   "cell_type": "code",
   "execution_count": 10,
   "id": "9f11ea17-3b68-4f7f-b2f0-fc4eea2930ba",
   "metadata": {},
   "outputs": [
    {
     "name": "stdout",
     "output_type": "stream",
     "text": [
      "Hello Tom\n"
     ]
    }
   ],
   "source": [
    "say_hello(\"Tom\")"
   ]
  },
  {
   "cell_type": "code",
   "execution_count": 11,
   "id": "c6dfa8c1-ded4-4785-a2d8-c34fcc1465a5",
   "metadata": {},
   "outputs": [],
   "source": [
    "# Function default values\n",
    "def say_hello(name='Default'):\n",
    "    print(f'Hello {name}')"
   ]
  },
  {
   "cell_type": "code",
   "execution_count": 12,
   "id": "a50ca178-1d18-4021-9fa3-9c8ee5157420",
   "metadata": {},
   "outputs": [
    {
     "name": "stdout",
     "output_type": "stream",
     "text": [
      "Hello Default\n"
     ]
    }
   ],
   "source": [
    "say_hello()"
   ]
  },
  {
   "cell_type": "markdown",
   "id": "a3adcd2a-c330-46d8-b06a-628fc1a1b60b",
   "metadata": {},
   "source": [
    "Difference between using `result` and printing the function's result:"
   ]
  },
  {
   "cell_type": "code",
   "execution_count": 13,
   "id": "360aeccc-b710-4c18-98cc-fea09d85144c",
   "metadata": {},
   "outputs": [],
   "source": [
    "def print_result(a,b):\n",
    "    print(a+b)"
   ]
  },
  {
   "cell_type": "code",
   "execution_count": 15,
   "id": "c9ea1648-a021-4e39-b864-10bc3631aa36",
   "metadata": {},
   "outputs": [
    {
     "name": "stdout",
     "output_type": "stream",
     "text": [
      "30\n"
     ]
    }
   ],
   "source": [
    "result = print_result(10,20)"
   ]
  },
  {
   "cell_type": "code",
   "execution_count": 16,
   "id": "282b4018-385b-4ea2-8245-31b2deaa1de8",
   "metadata": {},
   "outputs": [
    {
     "name": "stdout",
     "output_type": "stream",
     "text": [
      "None\n"
     ]
    }
   ],
   "source": [
    "print(result)"
   ]
  },
  {
   "cell_type": "markdown",
   "id": "634e8abf-a3e6-4a44-b207-8ca36f845d8f",
   "metadata": {},
   "source": [
    "Note that we do not specify the expected data type of the arguments:"
   ]
  },
  {
   "cell_type": "code",
   "execution_count": 17,
   "id": "440c6901-c643-4da3-91b1-be2164ec8639",
   "metadata": {},
   "outputs": [
    {
     "data": {
      "text/plain": [
       "'1020'"
      ]
     },
     "execution_count": 17,
     "metadata": {},
     "output_type": "execute_result"
    }
   ],
   "source": [
    "add_function('10', '20')"
   ]
  },
  {
   "cell_type": "code",
   "execution_count": 18,
   "id": "e2dfb43b-8e70-41aa-9a25-7f1ceb725dc7",
   "metadata": {},
   "outputs": [],
   "source": [
    "def even_check(number):\n",
    "    result = number % 2 == 0\n",
    "    return result"
   ]
  },
  {
   "cell_type": "code",
   "execution_count": 19,
   "id": "2fc77950-9ae0-473c-8490-fec9318af717",
   "metadata": {},
   "outputs": [
    {
     "data": {
      "text/plain": [
       "True"
      ]
     },
     "execution_count": 19,
     "metadata": {},
     "output_type": "execute_result"
    }
   ],
   "source": [
    "even_check(20)"
   ]
  },
  {
   "cell_type": "code",
   "execution_count": 20,
   "id": "e35288e9-0034-4e5e-b70a-bcdffc5bc6e3",
   "metadata": {},
   "outputs": [],
   "source": [
    "# Directly return\n",
    "def even_check(number):\n",
    "    return number % 2 == 0"
   ]
  },
  {
   "cell_type": "code",
   "execution_count": 21,
   "id": "468ef52c-e5ad-467b-8376-4053ebbcfa36",
   "metadata": {},
   "outputs": [
    {
     "data": {
      "text/plain": [
       "False"
      ]
     },
     "execution_count": 21,
     "metadata": {},
     "output_type": "execute_result"
    }
   ],
   "source": [
    "even_check(21)"
   ]
  },
  {
   "cell_type": "markdown",
   "id": "71902ee2-403d-4280-8394-04a0b209c798",
   "metadata": {},
   "source": [
    "`return` doesn't have to be at the end of a function:"
   ]
  },
  {
   "cell_type": "code",
   "execution_count": 22,
   "id": "b7545eaa-4cb2-4927-a7be-52fe9eee8dc3",
   "metadata": {},
   "outputs": [],
   "source": [
    "def check_even_list(num_list):\n",
    "    \"\"\"\n",
    "    Return true if any number is even inside a list\n",
    "    \"\"\"\n",
    "    for number in num_list:\n",
    "        if number % 2 == 0:\n",
    "            return True\n",
    "        else:\n",
    "            pass"
   ]
  },
  {
   "cell_type": "code",
   "execution_count": 23,
   "id": "26480776-6a24-4891-92f6-c8d03e377057",
   "metadata": {},
   "outputs": [
    {
     "data": {
      "text/plain": [
       "True"
      ]
     },
     "execution_count": 23,
     "metadata": {},
     "output_type": "execute_result"
    }
   ],
   "source": [
    "check_even_list([2,4,5])"
   ]
  },
  {
   "cell_type": "code",
   "execution_count": 24,
   "id": "c22b89cc-87ff-40c1-bef4-fe9e123b1d21",
   "metadata": {},
   "outputs": [
    {
     "data": {
      "text/plain": [
       "True"
      ]
     },
     "execution_count": 24,
     "metadata": {},
     "output_type": "execute_result"
    }
   ],
   "source": [
    "check_even_list([1,1,1,1,1,2])"
   ]
  },
  {
   "cell_type": "code",
   "execution_count": 25,
   "id": "313b824b-191a-4de9-9391-9d0527ef5178",
   "metadata": {},
   "outputs": [],
   "source": [
    "check_even_list([1,5])"
   ]
  },
  {
   "cell_type": "markdown",
   "id": "3893bf36-7317-43a0-8ad4-408b2ff6a6e8",
   "metadata": {},
   "source": [
    "Multiple `return` statements: keep in mind that `return` breaks out of the function"
   ]
  },
  {
   "cell_type": "code",
   "execution_count": 29,
   "id": "03711ed8-c4ba-452f-b4b8-930720bb053a",
   "metadata": {},
   "outputs": [],
   "source": [
    "def check_even_list(num_list):\n",
    "    \"\"\"\n",
    "    Return true if any number is even inside a list\n",
    "    \"\"\"\n",
    "    for number in num_list:\n",
    "        if number % 2 == 0:\n",
    "            return True\n",
    "        else:\n",
    "            pass\n",
    "    return False"
   ]
  },
  {
   "cell_type": "code",
   "execution_count": 27,
   "id": "1f642c07-7716-4eeb-83d9-2adc3d48675c",
   "metadata": {},
   "outputs": [
    {
     "data": {
      "text/plain": [
       "False"
      ]
     },
     "execution_count": 27,
     "metadata": {},
     "output_type": "execute_result"
    }
   ],
   "source": [
    "check_even_list([1,5])"
   ]
  },
  {
   "cell_type": "code",
   "execution_count": 28,
   "id": "f77c9e66-9ff0-4396-9a37-6dc569c0b569",
   "metadata": {},
   "outputs": [
    {
     "data": {
      "text/plain": [
       "True"
      ]
     },
     "execution_count": 28,
     "metadata": {},
     "output_type": "execute_result"
    }
   ],
   "source": [
    "check_even_list([1,5,3,6])"
   ]
  },
  {
   "cell_type": "markdown",
   "id": "26cb770e-ee9e-4b91-8093-f1858a67fb6d",
   "metadata": {},
   "source": [
    "Return a list:"
   ]
  },
  {
   "cell_type": "code",
   "execution_count": 30,
   "id": "6d6608ca-ff23-43ae-a415-b3895fad3066",
   "metadata": {},
   "outputs": [],
   "source": [
    "def check_even_list(num_list):\n",
    "    \"\"\"\n",
    "    Return all the even numbers in a list\n",
    "    \"\"\"\n",
    "    \n",
    "    # Placeholder variables\n",
    "    even_numbers = []\n",
    "    \n",
    "    for number in num_list:\n",
    "        if number % 2 == 0:\n",
    "            even_numbers.append(number)\n",
    "        else:\n",
    "            pass\n",
    "    \n",
    "    return even_numbers"
   ]
  },
  {
   "cell_type": "code",
   "execution_count": 31,
   "id": "52a4629c-bd79-4389-84f0-208ddc8710de",
   "metadata": {},
   "outputs": [
    {
     "data": {
      "text/plain": [
       "[6]"
      ]
     },
     "execution_count": 31,
     "metadata": {},
     "output_type": "execute_result"
    }
   ],
   "source": [
    "check_even_list([1,5,3,6])"
   ]
  },
  {
   "cell_type": "code",
   "execution_count": 32,
   "id": "fe3a7918-726c-41cf-99ac-d63ea8202444",
   "metadata": {},
   "outputs": [
    {
     "data": {
      "text/plain": [
       "[6, 2, 2, 2]"
      ]
     },
     "execution_count": 32,
     "metadata": {},
     "output_type": "execute_result"
    }
   ],
   "source": [
    "check_even_list([1,5,3,6,2,3,2,2])"
   ]
  },
  {
   "cell_type": "code",
   "execution_count": 33,
   "id": "34325b6a-728c-46e2-bfdd-5fa04e6ca3ea",
   "metadata": {},
   "outputs": [
    {
     "data": {
      "text/plain": [
       "[]"
      ]
     },
     "execution_count": 33,
     "metadata": {},
     "output_type": "execute_result"
    }
   ],
   "source": [
    "check_even_list([1,5])"
   ]
  },
  {
   "cell_type": "markdown",
   "id": "cae6c809-5236-4a1b-a78b-404242a50a54",
   "metadata": {},
   "source": [
    "### Tuple unpacking"
   ]
  },
  {
   "cell_type": "code",
   "execution_count": 35,
   "id": "fe920ba7-2c03-456c-84d1-b485161cad04",
   "metadata": {},
   "outputs": [],
   "source": [
    "stock_prices = [('APPL',200), ('GOOG',400), ('MSFT',100)]"
   ]
  },
  {
   "cell_type": "code",
   "execution_count": 37,
   "id": "ed9b2ac7-e739-45e4-bb49-0d9b9c3859f2",
   "metadata": {},
   "outputs": [
    {
     "name": "stdout",
     "output_type": "stream",
     "text": [
      "('APPL', 200)\n",
      "('GOOG', 400)\n",
      "('MSFT', 100)\n"
     ]
    }
   ],
   "source": [
    "for item in stock_prices:\n",
    "    print(item)"
   ]
  },
  {
   "cell_type": "code",
   "execution_count": 38,
   "id": "48696b6d-914f-4671-8313-d2c789fbb558",
   "metadata": {},
   "outputs": [
    {
     "name": "stdout",
     "output_type": "stream",
     "text": [
      "220.0\n",
      "440.0\n",
      "110.0\n"
     ]
    }
   ],
   "source": [
    "for ticker, price in stock_prices:\n",
    "    print(price+(0.1*price))"
   ]
  },
  {
   "cell_type": "code",
   "execution_count": 39,
   "id": "f320b6d6-b5be-464c-b386-a53093d7edd6",
   "metadata": {},
   "outputs": [],
   "source": [
    "work_hours = [('Abby',100), ('Billy',400), ('Cassie',800)]"
   ]
  },
  {
   "cell_type": "code",
   "execution_count": 40,
   "id": "53b98e7f-3460-4615-83cb-7ef9793e5119",
   "metadata": {},
   "outputs": [],
   "source": [
    "def employee_check(work_hours):\n",
    "    current_max = 0\n",
    "    employee_of_month = ''\n",
    "    \n",
    "    for employee, hours in work_hours:\n",
    "        if hours > current_max:\n",
    "            current_max = hours\n",
    "            employee_of_month = employee\n",
    "        else:\n",
    "            pass\n",
    "        \n",
    "    # Return a tuple\n",
    "    return (employee_of_month, current_max)"
   ]
  },
  {
   "cell_type": "code",
   "execution_count": 41,
   "id": "b74ecd3e-32e4-48bb-baaf-ffc05f021716",
   "metadata": {},
   "outputs": [
    {
     "data": {
      "text/plain": [
       "('Cassie', 800)"
      ]
     },
     "execution_count": 41,
     "metadata": {},
     "output_type": "execute_result"
    }
   ],
   "source": [
    "employee_check(work_hours)"
   ]
  },
  {
   "cell_type": "code",
   "execution_count": 42,
   "id": "b6cbd72f-47e2-4c1a-87e5-b6e1f2f89bc6",
   "metadata": {},
   "outputs": [],
   "source": [
    "name, hours = employee_check(work_hours)"
   ]
  },
  {
   "cell_type": "code",
   "execution_count": 43,
   "id": "d423ce5f-dddf-4622-9766-8c1ce893e2b1",
   "metadata": {},
   "outputs": [
    {
     "name": "stdout",
     "output_type": "stream",
     "text": [
      "Cassie\n"
     ]
    }
   ],
   "source": [
    "print(name)"
   ]
  },
  {
   "cell_type": "code",
   "execution_count": 44,
   "id": "6952fb8d-3b7b-4336-b7e1-5d1184f004c8",
   "metadata": {},
   "outputs": [
    {
     "name": "stdout",
     "output_type": "stream",
     "text": [
      "800\n"
     ]
    }
   ],
   "source": [
    "print(hours)"
   ]
  },
  {
   "cell_type": "markdown",
   "id": "22f58396-6976-42dd-b3ca-8dc8aae00e09",
   "metadata": {},
   "source": [
    "## Interactions between functions"
   ]
  },
  {
   "cell_type": "markdown",
   "id": "8fc810cf-27cb-4d4d-949d-4a31ae4bc828",
   "metadata": {},
   "source": [
    "Shuffle a list at random:"
   ]
  },
  {
   "cell_type": "code",
   "execution_count": 45,
   "id": "72391f92-4986-4a2e-a7df-b3e4c3e4477d",
   "metadata": {},
   "outputs": [],
   "source": [
    "example = list(range(1,8))"
   ]
  },
  {
   "cell_type": "code",
   "execution_count": 46,
   "id": "29a364c9-7e92-4473-afa9-9773e78e5531",
   "metadata": {},
   "outputs": [],
   "source": [
    "from random import shuffle"
   ]
  },
  {
   "cell_type": "code",
   "execution_count": 47,
   "id": "2c41f2b0-ffde-401d-ab4a-84d245f7ceaf",
   "metadata": {},
   "outputs": [
    {
     "data": {
      "text/plain": [
       "[3, 5, 2, 4, 7, 1, 6]"
      ]
     },
     "execution_count": 47,
     "metadata": {},
     "output_type": "execute_result"
    }
   ],
   "source": [
    "shuffle(example)\n",
    "example"
   ]
  },
  {
   "cell_type": "markdown",
   "id": "41624eb1-1be1-4504-b1e9-d18244f39f18",
   "metadata": {},
   "source": [
    "Simple game of guessing where the number is"
   ]
  },
  {
   "cell_type": "code",
   "execution_count": 48,
   "id": "c88a2ee4-24ff-471a-8683-83d8a8ab1d8f",
   "metadata": {},
   "outputs": [],
   "source": [
    "def shuffle_list(mylist):\n",
    "    # This shuffles in place, we need to return\n",
    "    # the shuffled list\n",
    "    shuffle(mylist)\n",
    "    return mylist\n",
    "    "
   ]
  },
  {
   "cell_type": "code",
   "execution_count": 49,
   "id": "1d7f0292-63b5-4ace-a6a3-f07f27f9d065",
   "metadata": {},
   "outputs": [],
   "source": [
    "mylist = [' ', 'O', ' ']"
   ]
  },
  {
   "cell_type": "code",
   "execution_count": 50,
   "id": "16348b5e-f0b6-433f-9b97-644550d58200",
   "metadata": {},
   "outputs": [
    {
     "data": {
      "text/plain": [
       "[' ', ' ', 'O']"
      ]
     },
     "execution_count": 50,
     "metadata": {},
     "output_type": "execute_result"
    }
   ],
   "source": [
    "shuffle_list(mylist)"
   ]
  },
  {
   "cell_type": "code",
   "execution_count": 51,
   "id": "2f399167-2ae5-4e2f-bf4d-0abfca4916b3",
   "metadata": {},
   "outputs": [],
   "source": [
    "def player_guess():\n",
    "    guess = ''\n",
    "    \n",
    "    # input always returns a string\n",
    "    while guess not in ['0', '1', '2']:\n",
    "        guess = input(\"Pick a number: 0, 1 or 2\")\n",
    "        \n",
    "    return int(guess)"
   ]
  },
  {
   "cell_type": "code",
   "execution_count": 54,
   "id": "cc16e56f-4166-440a-8bb9-23c9d4a37737",
   "metadata": {},
   "outputs": [
    {
     "name": "stdin",
     "output_type": "stream",
     "text": [
      "Pick a number: 0, 1 or 2 9\n",
      "Pick a number: 0, 1 or 2 8\n",
      "Pick a number: 0, 1 or 2 1\n"
     ]
    },
    {
     "data": {
      "text/plain": [
       "1"
      ]
     },
     "execution_count": 54,
     "metadata": {},
     "output_type": "execute_result"
    }
   ],
   "source": [
    "player_guess()"
   ]
  },
  {
   "cell_type": "code",
   "execution_count": 56,
   "id": "1d340ed5-8568-4fae-a082-293dd09b8f25",
   "metadata": {},
   "outputs": [],
   "source": [
    "def check_guess(mylist, guess):\n",
    "    if mylist[guess] == 'O':\n",
    "        print('Correct!')\n",
    "    else:\n",
    "        print(\"Wrong guess!\")\n",
    "        print(mylist)"
   ]
  },
  {
   "cell_type": "code",
   "execution_count": 60,
   "id": "3683a1ed-be31-44a6-a366-9c7fbd076b02",
   "metadata": {},
   "outputs": [
    {
     "name": "stdin",
     "output_type": "stream",
     "text": [
      "Pick a number: 0, 1 or 2 0\n"
     ]
    },
    {
     "name": "stdout",
     "output_type": "stream",
     "text": [
      "Wrong guess!\n",
      "[' ', ' ', 'O']\n"
     ]
    }
   ],
   "source": [
    "# Initial list\n",
    "mylist = [' ', 'O', ' ']\n",
    "\n",
    "# Shuffle\n",
    "mixedup_list = shuffle_list(mylist)\n",
    "\n",
    "# User guess\n",
    "guess = player_guess()\n",
    "\n",
    "# Check guess\n",
    "check_guess(mixedup_list, guess)"
   ]
  },
  {
   "cell_type": "markdown",
   "id": "66b0f86c-6d05-4307-96dc-124b2fcd3ea6",
   "metadata": {},
   "source": [
    "## `*args` and `**kwargs` \n",
    "\n",
    "These stand for 'arguments' and 'keyword arguments'.\n",
    "\n",
    "Use `*args` to take an arbitrary number of arguments (they are taken in as a tuple):"
   ]
  },
  {
   "cell_type": "code",
   "execution_count": 61,
   "id": "584067bc-0ec6-4852-a373-e68b3e6680f7",
   "metadata": {},
   "outputs": [],
   "source": [
    "def myfunc(*args):\n",
    "    return sum(args)*0.05"
   ]
  },
  {
   "cell_type": "code",
   "execution_count": 62,
   "id": "29371731-976f-4360-84a7-ede19a6871d9",
   "metadata": {},
   "outputs": [
    {
     "data": {
      "text/plain": [
       "0.5"
      ]
     },
     "execution_count": 62,
     "metadata": {},
     "output_type": "execute_result"
    }
   ],
   "source": [
    "myfunc(1,2,3,4)"
   ]
  },
  {
   "cell_type": "code",
   "execution_count": 63,
   "id": "8d4ddd3a-036c-4ed0-9cae-67e6b26b075e",
   "metadata": {},
   "outputs": [
    {
     "data": {
      "text/plain": [
       "0.15000000000000002"
      ]
     },
     "execution_count": 63,
     "metadata": {},
     "output_type": "execute_result"
    }
   ],
   "source": [
    "myfunc(1,2)"
   ]
  },
  {
   "cell_type": "code",
   "execution_count": 64,
   "id": "cc90093c-bdb7-4a78-bedd-835213f92634",
   "metadata": {},
   "outputs": [
    {
     "data": {
      "text/plain": [
       "134.3"
      ]
     },
     "execution_count": 64,
     "metadata": {},
     "output_type": "execute_result"
    }
   ],
   "source": [
    "myfunc(1,2,3,4,5,6,7,8,89,2334,223,2,2)"
   ]
  },
  {
   "cell_type": "code",
   "execution_count": 65,
   "id": "f46de47d-10eb-429a-9c81-c63ca8ad9347",
   "metadata": {},
   "outputs": [],
   "source": [
    "def myfunc(*args):\n",
    "    for item in args:\n",
    "        print(item)"
   ]
  },
  {
   "cell_type": "code",
   "execution_count": 66,
   "id": "35d264da-c618-4282-9042-0dddcd834bb0",
   "metadata": {},
   "outputs": [
    {
     "name": "stdout",
     "output_type": "stream",
     "text": [
      "1\n",
      "2\n",
      "3\n",
      "4\n"
     ]
    }
   ],
   "source": [
    "myfunc(1,2,3,4)"
   ]
  },
  {
   "cell_type": "markdown",
   "id": "a5822b94-85e4-4667-80b4-cb2bbd482ad2",
   "metadata": {},
   "source": [
    "`**kwargs` builds a dictionary of key-value pairs."
   ]
  },
  {
   "cell_type": "code",
   "execution_count": 68,
   "id": "38422225-d7ff-4e3f-a155-00f8b49f0e3e",
   "metadata": {},
   "outputs": [],
   "source": [
    "def myfunc(**kwargs):\n",
    "    if 'fruit' in kwargs:\n",
    "        print('My fruit of choice is {}'.format(kwargs['fruit']))\n",
    "    else:\n",
    "        print('I did not find any fruit here')"
   ]
  },
  {
   "cell_type": "code",
   "execution_count": 69,
   "id": "a9b3ca48-7eef-4c72-b6cb-26a01050b311",
   "metadata": {},
   "outputs": [
    {
     "name": "stdout",
     "output_type": "stream",
     "text": [
      "My fruit of choice is apple\n"
     ]
    }
   ],
   "source": [
    "myfunc(fruit='apple', veggie='lettuce')"
   ]
  },
  {
   "cell_type": "code",
   "execution_count": 70,
   "id": "b0ecbdf9-63ab-47a3-b102-abad9f30ce99",
   "metadata": {},
   "outputs": [],
   "source": [
    "def myfunc(*args, **kwargs):\n",
    "    print('I would like {} {}'.format(args[0], kwargs['food']))"
   ]
  },
  {
   "cell_type": "code",
   "execution_count": 71,
   "id": "0106053a-2d6e-47b3-b64f-8fa249ad7c24",
   "metadata": {},
   "outputs": [
    {
     "name": "stdout",
     "output_type": "stream",
     "text": [
      "I would like 10 eggs\n"
     ]
    }
   ],
   "source": [
    "myfunc(10,20,30,fruit='orange',food='eggs',animal='dog')"
   ]
  },
  {
   "cell_type": "code",
   "execution_count": null,
   "id": "be217ed2-fd7c-49d6-95e7-b1ab87663062",
   "metadata": {},
   "outputs": [],
   "source": []
  }
 ],
 "metadata": {
  "kernelspec": {
   "display_name": "Python 3 (ipykernel)",
   "language": "python",
   "name": "python3"
  },
  "language_info": {
   "codemirror_mode": {
    "name": "ipython",
    "version": 3
   },
   "file_extension": ".py",
   "mimetype": "text/x-python",
   "name": "python",
   "nbconvert_exporter": "python",
   "pygments_lexer": "ipython3",
   "version": "3.9.6"
  }
 },
 "nbformat": 4,
 "nbformat_minor": 5
}
